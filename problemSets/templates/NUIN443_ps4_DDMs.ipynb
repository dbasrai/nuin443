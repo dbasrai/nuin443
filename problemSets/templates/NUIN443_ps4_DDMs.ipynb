{
  "cells": [
    {
      "cell_type": "markdown",
      "metadata": {
        "id": "view-in-github",
        "colab_type": "text"
      },
      "source": [
        "<a href=\"https://colab.research.google.com/github/lucas-pinto/NUIN443/blob/main/problemSets/NUIN443_ps4_DDMs.ipynb\" target=\"_parent\"><img src=\"https://colab.research.google.com/assets/colab-badge.svg\" alt=\"Open In Colab\"/></a>"
      ]
    },
    {
      "cell_type": "markdown",
      "id": "f68602f9-aca1-479d-a257-dc40b1fd60ad",
      "metadata": {
        "id": "f68602f9-aca1-479d-a257-dc40b1fd60ad"
      },
      "source": [
        "#### PROBLEM SET 4: DRIFT DIFFUSION MODELS #\n",
        "\n",
        "Here we will code our own vanilla DDM and play with some parameters to illustrate some key concepts about decision making. Have fun! <br>"
      ]
    },
    {
      "cell_type": "code",
      "execution_count": null,
      "id": "f9c79ecf-75d5-492d-9ffc-a2553ca593d9",
      "metadata": {
        "id": "f9c79ecf-75d5-492d-9ffc-a2553ca593d9"
      },
      "outputs": [],
      "source": [
        "# IMPORT PACKAGES\n",
        "import numpy as np\n",
        "import matplotlib.pyplot as plt"
      ]
    },
    {
      "cell_type": "markdown",
      "id": "47e7f0e5-97a9-4679-9f2d-98f5ef6ec712",
      "metadata": {
        "id": "47e7f0e5-97a9-4679-9f2d-98f5ef6ec712"
      },
      "source": [
        "## Problem 1: DDM ##\n",
        "\n",
        "**1a**. Write your own function to simulate (not fit) a DDM. <br>\n",
        "**1b**. Simulate and plot two trials for each of three different values of E (= .01, .10, .20) and decision threshold \\\\(\\beta\\\\)=50. <br>\n",
        "**1c**. Simulate 1000 trials with the following parameters: E = 0.06, \\\\(\\beta\\\\)=20. Plot the distribution of reaction times separately for correct and error trials.  <br>"
      ]
    },
    {
      "cell_type": "code",
      "execution_count": null,
      "id": "fcfbc677-b0d4-43e0-8db8-3ae8a4ac48c5",
      "metadata": {
        "id": "fcfbc677-b0d4-43e0-8db8-3ae8a4ac48c5"
      },
      "outputs": [],
      "source": [
        "# write your own simple ddm simulator\n",
        "# E: strength of sensory evidence\n",
        "# bound: decision threshold \\beta\n",
        "# c: diffusion noise\n",
        "# nt: number of data points to simulate\n",
        "# start_point: value of x at t=0\n",
        "# E_sigma: standard deviation of the distribution.\n",
        "#          For each simulated trial, the drift rate should be drawn from a gaussian distribution\n",
        "#          with mean E and standard deviation E_sigma\n",
        "\n",
        "def DDM(E,beta,c=1,nt=2000,start_point=0,E_sigma=0.1):\n"
      ]
    },
    {
      "cell_type": "code",
      "execution_count": null,
      "id": "e5ddaf84-f025-47d2-a1dc-f2949f2084d5",
      "metadata": {
        "id": "e5ddaf84-f025-47d2-a1dc-f2949f2084d5"
      },
      "outputs": [],
      "source": [
        "# simulate and plot two trials for each of three evidence levels E\n"
      ]
    },
    {
      "cell_type": "code",
      "execution_count": null,
      "id": "d1baa1fd-1265-495f-9ef0-073837421c6c",
      "metadata": {
        "id": "d1baa1fd-1265-495f-9ef0-073837421c6c"
      },
      "outputs": [],
      "source": [
        "# Simulate 1000 trials with the following parameters: E = 0.06, beta=20.\n",
        "# Plot the distribution of reaction times separately for correct and error trials.\n"
      ]
    },
    {
      "cell_type": "markdown",
      "id": "188e8d99-8bcd-4dc6-81de-1a138cd01bfd",
      "metadata": {
        "id": "188e8d99-8bcd-4dc6-81de-1a138cd01bfd"
      },
      "source": [
        "## Problem 2: Speed-accuracy tradeoff ##\n",
        "\n",
        "Now we will illustrate a fundamental feature of percetual decision-making: the speed-accuracy tradeoff. We will do this by manipulating the decision threshold \\\\(\\beta\\\\). Intuitively, if you have a higher threshold, a decision variable will take longer to reach it with the same drift rate, but it will also be less likely to reach it accidentally because of diffusion. Let's see how this holds up.\n",
        "\n",
        "**2a**. Vary \\\\(\\beta\\\\) between 5 and 65 in steps of 10, using E = 0.1 and c = 2. For each value, simulate 500 trials with your DDM function, recording the accuracy (% correct trials) and the median reaction time. Plot reaction time vs accuracy, where each data point comes from a \\\\(\\\\beta\\\\). Color the different data points along some gradient to easily identify how \\\\(\\beta\\\\) changes reaction times and accuracy.  <br>\n"
      ]
    },
    {
      "cell_type": "code",
      "execution_count": null,
      "id": "dba9c7ed-5ec2-40bd-88a2-e4b0edac4f83",
      "metadata": {
        "id": "dba9c7ed-5ec2-40bd-88a2-e4b0edac4f83"
      },
      "outputs": [],
      "source": [
        "# Speed - accuracy tradeoff via changing beta\n"
      ]
    }
  ],
  "metadata": {
    "kernelspec": {
      "display_name": "Python 3 (ipykernel)",
      "language": "python",
      "name": "python3"
    },
    "language_info": {
      "codemirror_mode": {
        "name": "ipython",
        "version": 3
      },
      "file_extension": ".py",
      "mimetype": "text/x-python",
      "name": "python",
      "nbconvert_exporter": "python",
      "pygments_lexer": "ipython3",
      "version": "3.8.2"
    },
    "colab": {
      "provenance": [],
      "include_colab_link": true
    }
  },
  "nbformat": 4,
  "nbformat_minor": 5
}