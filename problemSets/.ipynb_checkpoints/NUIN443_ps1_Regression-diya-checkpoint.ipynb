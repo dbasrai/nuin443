{
 "cells": [
  {
   "cell_type": "markdown",
   "id": "da5152ab",
   "metadata": {
    "colab_type": "text",
    "id": "view-in-github"
   },
   "source": [
    "<a href=\"https://colab.research.google.com/github/lucas-pinto/NUIN443/blob/main/problemSets/NUIN443_ps1_Regression.ipynb\" target=\"_parent\"><img src=\"https://colab.research.google.com/assets/colab-badge.svg\" alt=\"Open In Colab\"/></a>"
   ]
  },
  {
   "cell_type": "markdown",
   "id": "f68602f9-aca1-479d-a257-dc40b1fd60ad",
   "metadata": {
    "id": "f68602f9-aca1-479d-a257-dc40b1fd60ad"
   },
   "source": [
    "# PROBLEM SET 1: REGRESSION #\n",
    "\n",
    "Here we will review some of the key concepts from the regression class. <br>\n",
    "We will first play with some toy data, using custom written algorithms to fit it with OLS, least mean squares, or ridge. <br>\n",
    "We will then do logistic regression on some real behavioral data from the Pinto Lab. Have fun! <br>"
   ]
  },
  {
   "cell_type": "code",
   "execution_count": 26,
   "id": "f9c79ecf-75d5-492d-9ffc-a2553ca593d9",
   "metadata": {
    "id": "f9c79ecf-75d5-492d-9ffc-a2553ca593d9",
    "tags": []
   },
   "outputs": [],
   "source": [
    "# IMPORT SOME LIBRARIES\n",
    "import numpy as np\n",
    "import pandas as pd\n",
    "import matplotlib.pyplot as plt\n",
    "import pickle\n",
    "from scipy import stats # for z scoring\n",
    "from sklearn.model_selection import RepeatedKFold # for cross val in problem 4\n",
    "from sklearn.linear_model import LogisticRegression # for problem 4\n",
    "\n",
    "\n",
    "%matplotlib widget\n",
    "%matplotlib widget\n"
   ]
  },
  {
   "cell_type": "code",
   "execution_count": 4,
   "id": "3da0e6f9-347b-4b29-84b2-e37325a2b272",
   "metadata": {
    "id": "3da0e6f9-347b-4b29-84b2-e37325a2b272",
    "tags": []
   },
   "outputs": [],
   "source": [
    "# DOWNLOAD DATA\n",
    "!wget -nc https://www.dropbox.com/scl/fi/u430bflj0wa8u40bip539/nuin443_ols_data.pickle?rlkey=x6gggiaxx3kwcn20d5lzkf2dj&dl=0\n",
    "!wget -nc https://www.dropbox.com/scl/fi/khlt5gezj3cwqscmfg3u7/nuin443_ridge_data.pickle?rlkey=63tersdczwyln9brx0pm06rs2&dl=0\n",
    "!wget -nc https://www.dropbox.com/scl/fi/0ohjs6xxlgfx3qumfzpvi/nuin443_towers_df.pickle?rlkey=5td9e8dl0zwy1qgdpb8i2cgqb&dl=0"
   ]
  },
  {
   "cell_type": "markdown",
   "id": "47e7f0e5-97a9-4679-9f2d-98f5ef6ec712",
   "metadata": {
    "id": "47e7f0e5-97a9-4679-9f2d-98f5ef6ec712"
   },
   "source": [
    "## Problem 1: OLS ##\n",
    "\n",
    "**1a**. Load the data. \\\\(X\\\\) is the predictor matrix and \\\\(y\\\\) is the response vector. <br>\n",
    "**1b**. Is this a good candidate for OLS? Check that the correlation matrix \\\\(X^TX\\\\) is not singular.  <br>\n",
    "**1c**. Write your own OLS function using linear algebra.  <br>\n",
    "**1d**. Fit the data and print the weight vector, including the intercept term.  <br>\n",
    "**1e**. Write functions to compute the coefficient of determination \\\\(R^2\\\\) and the squared correlation coefficient between data and prediction, \\\\(r^2\\\\).  <br>\n",
    "**1f**. Use your functions to assess the goodness of fit using both metrics. How do they compare? What does that say about the data?  <br>"
   ]
  },
  {
   "cell_type": "code",
   "execution_count": 6,
   "id": "dba9c7ed-5ec2-40bd-88a2-e4b0edac4f83",
   "metadata": {
    "id": "dba9c7ed-5ec2-40bd-88a2-e4b0edac4f83",
    "tags": []
   },
   "outputs": [],
   "source": [
    "# 1a. Load data\n",
    "filename    = '../data/nuin443_ols_data.pickle?rlkey=x6gggiaxx3kwcn20d5lzkf2dj'\n",
    "with open(filename, 'rb') as handle:\n",
    "    [X,y] = pickle.load(handle)"
   ]
  },
  {
   "cell_type": "code",
   "execution_count": 7,
   "id": "fcfbc677-b0d4-43e0-8db8-3ae8a4ac48c5",
   "metadata": {
    "id": "fcfbc677-b0d4-43e0-8db8-3ae8a4ac48c5",
    "tags": []
   },
   "outputs": [
    {
     "name": "stdout",
     "output_type": "stream",
     "text": [
      "X is singular\n"
     ]
    }
   ],
   "source": [
    "# 1b. Is X non-singular?\n",
    "if np.linalg.det(np.dot(X.T, X)) != 0:\n",
    "    print('X is singular')\n"
   ]
  },
  {
   "cell_type": "code",
   "execution_count": 8,
   "id": "69d980e1-f50f-48a7-828c-cd507ba6b78d",
   "metadata": {
    "id": "69d980e1-f50f-48a7-828c-cd507ba6b78d",
    "tags": []
   },
   "outputs": [],
   "source": [
    "# 1c. Define your OLS function (fill this in)\n",
    "\n",
    "def OLS(X,y):\n",
    "    return np.linalg.inv(X.T @ X) @ X.T @ y\n",
    "\n",
    "def X_offset(X):\n",
    "    offset = np.ones((X.shape[0], 1))\n",
    "    return np.hstack((offset, X))\n"
   ]
  },
  {
   "cell_type": "code",
   "execution_count": 9,
   "id": "07bfea17-10f7-44f0-946c-fdfe2798a743",
   "metadata": {
    "id": "07bfea17-10f7-44f0-946c-fdfe2798a743",
    "tags": []
   },
   "outputs": [
    {
     "name": "stdout",
     "output_type": "stream",
     "text": [
      "[10.13021508  1.62248651  0.24858747  5.31171729 -1.96749828]\n"
     ]
    }
   ],
   "source": [
    "# 1d. Use your OLS function to find the weight vector w (remeber to add intercept!). Print result\n",
    "X_ = X_offset(X)\n",
    "w = OLS(X_, y)\n",
    "y_hat = X_@w\n",
    "print(w)\n",
    "\n"
   ]
  },
  {
   "cell_type": "code",
   "execution_count": 10,
   "id": "5982709c-e3b3-4dc0-a94c-1c2acea9434d",
   "metadata": {
    "id": "5982709c-e3b3-4dc0-a94c-1c2acea9434d",
    "tags": []
   },
   "outputs": [],
   "source": [
    "# 1e. Define goodness-of-fit functions:\n",
    "\n",
    "# Coefficient of determination (fill this in)\n",
    "def fit_R2(y,y_hat):\n",
    "    return 1 - ((np.sum((y-y_hat)**2)) / np.sum((y-np.average(y))**2))\n",
    "\n",
    "\n",
    "# Squared correlation coefficient (fill this in)\n",
    "def fit_r2(y,y_hat):\n",
    "    return np.corrcoef(y, y_hat, rowvar=False)[0,1]**2"
   ]
  },
  {
   "cell_type": "code",
   "execution_count": 11,
   "id": "90ecb6cb-9135-42ce-94c0-9ee61529e911",
   "metadata": {
    "id": "90ecb6cb-9135-42ce-94c0-9ee61529e911",
    "tags": []
   },
   "outputs": [
    {
     "name": "stdout",
     "output_type": "stream",
     "text": [
      "0.9377085945326636\n",
      "0.9377085945326635\n"
     ]
    }
   ],
   "source": [
    "# 1f. Use the functions above to assess goodness of fit, print results \n",
    "print(fit_R2(y, y_hat))\n",
    "print(fit_r2(y, y_hat))\n",
    "\n",
    "\n"
   ]
  },
  {
   "cell_type": "code",
   "execution_count": null,
   "id": "5318a1a0-8dd5-4a38-aa08-a18410dbc219",
   "metadata": {
    "id": "29607ab4-048d-41bd-8893-e6a2ae049a05"
   },
   "outputs": [],
   "source": [
    "# 1f. How do they compare? What does that say about the data? (answer as code comment)\n",
    "\n",
    "#They're the same... I think that the data is well-captured by OLS.  \n",
    "\n",
    "\n"
   ]
  },
  {
   "cell_type": "markdown",
   "id": "188e8d99-8bcd-4dc6-81de-1a138cd01bfd",
   "metadata": {
    "id": "188e8d99-8bcd-4dc6-81de-1a138cd01bfd"
   },
   "source": [
    "## Problem 2: LMS ##\n",
    "**2a**. Now write your own least mean squares algorithm (gradient descent) and <br>\n",
    "**2b**. fit the same data. Print \\\\(w\\\\)"
   ]
  },
  {
   "cell_type": "code",
   "execution_count": 95,
   "id": "de146f82-6533-4929-8d07-786fe76a35ab",
   "metadata": {
    "id": "de146f82-6533-4929-8d07-786fe76a35ab",
    "tags": []
   },
   "outputs": [],
   "source": [
    "# 2a. Write your LMS algorithm.\n",
    "# I'm suggesting some defaults for the hyperparameters\n",
    "# (alpha is learning rate, tolerance is the amount of change in the gradient that makes you stop fitting)\n",
    "\n",
    "def LMS(X,y,alpha=.001,maxiter=500,tolerance=1e-5):\n",
    "\n",
    "    # initialize random weights\n",
    "    w  = np.random.normal(size=np.size(X,axis=1))\n",
    "    Xt = np.transpose(X)\n",
    "\n",
    "    for i in range(maxiter):\n",
    "        # compute gradient epsilon (fill this in)\n",
    "        epsilon = (alpha*Xt) @ (X@w - y)\n",
    "\n",
    "        if sum(abs(epsilon)) < tolerance:\n",
    "            break\n",
    "        else:\n",
    "            w = w - epsilon\n",
    "            # update weight (fill this in)\n",
    "\n",
    "    return w"
   ]
  },
  {
   "cell_type": "code",
   "execution_count": 96,
   "id": "93ff7373-e757-4199-a538-9c7358fe5228",
   "metadata": {
    "id": "93ff7373-e757-4199-a538-9c7358fe5228",
    "tags": []
   },
   "outputs": [
    {
     "name": "stdout",
     "output_type": "stream",
     "text": [
      "[10.13021189  1.62248545  0.2485789   5.31171342 -1.96749253]\n"
     ]
    }
   ],
   "source": [
    "# 2b. Fit the same data with your LMS function and print w\n",
    "\n",
    "Xs       = np.ones((500,5))\n",
    "Xs[:,1:] = X\n",
    "w        = LMS(Xs,y)\n",
    "print(w)"
   ]
  },
  {
   "cell_type": "markdown",
   "id": "0c0945c9-5726-4539-96c3-559958fdf4d9",
   "metadata": {
    "id": "0c0945c9-5726-4539-96c3-559958fdf4d9"
   },
   "source": [
    "### Problem 3: ridge regression ##\n",
    "\n",
    "**3a**. Load the new dataset \\\\(X_r\\\\) and \\\\(y_r\\\\). This time I made two of the variables correlated <br>\n",
    "**3b**. Compute and plot the correlation matrix \\\\(X_r^TX_r\\\\) to figure out which are the correlated columns of \\\\(X_r\\\\) <br>\n",
    "**3c**. Write your own function to do ridge regression using the analytical (linear algebra) solution <br>\n",
    "**3d**. Use your function to fit the data, varying \\\\(\\lambda\\\\) systematically between 0 and 100 <br>\n",
    "**3e**. Plot the weight for each parameter as a function of \\\\(\\lambda\\\\). What happens to weights for correlated vs. uncorrelated variables?  <br>\n",
    "(note: you should use cross-validation irl to determine the best \\\\(\\lambda\\\\) for your model)"
   ]
  },
  {
   "cell_type": "code",
   "execution_count": 12,
   "id": "6951aa18-4869-4b63-9401-4b928ca2900f",
   "metadata": {
    "id": "6951aa18-4869-4b63-9401-4b928ca2900f",
    "tags": []
   },
   "outputs": [],
   "source": [
    "# 3a. load data\n",
    "filename    = '../data/nuin443_ridge_data.pickle?rlkey=63tersdczwyln9brx0pm06rs2'\n",
    "with open(filename, 'rb') as handle:\n",
    "    [Xr,yr] = pickle.load(handle)"
   ]
  },
  {
   "cell_type": "code",
   "execution_count": 23,
   "id": "042001ef-1600-4276-8529-067ba8ecb36c",
   "metadata": {
    "id": "042001ef-1600-4276-8529-067ba8ecb36c",
    "tags": []
   },
   "outputs": [
    {
     "name": "stdout",
     "output_type": "stream",
     "text": [
      "[[  0.          -6.2261191   -3.36890558   0.57944763]\n",
      " [ -6.2261191    0.         470.49539308 -27.3917083 ]\n",
      " [ -3.36890558 470.49539308   0.         -26.90303935]\n",
      " [  0.57944763 -27.3917083  -26.90303935   0.        ]]\n"
     ]
    },
    {
     "data": {
      "image/png": "[encoded data removed]",
      "text/plain": [
       "<Figure size 640x480 with 1 Axes>"
      ]
     },
     "metadata": {},
     "output_type": "display_data"
    }
   ],
   "source": [
    "# 3b. Compute and plot X^TX to figure out which are the correlated variables\n",
    "cov = Xr.T@Xr\n",
    "# lets set diagonal to 0 for visualization pruposes\n",
    "np.fill_diagonal(cov,0)\n",
    "# lets flatten, plot, and sort\n",
    "fig3, ax3 = plt.subplots()\n",
    "ax3.plot(cov.flatten())\n",
    "print(cov)\n",
    "#looks like feature 1 and 2 (0-indexing) are correlated."
   ]
  },
  {
   "cell_type": "code",
   "execution_count": 34,
   "id": "d5ebc816-10a3-43d5-a50b-ce60b65769d6",
   "metadata": {
    "tags": []
   },
   "outputs": [
    {
     "data": {
      "text/plain": [
       "array([[502.        ,   2.        ,   2.        ,   2.        ,\n",
       "          2.        ],\n",
       "       [  2.        , 502.        ,  -4.21663809,  -1.37569772,\n",
       "          2.55874243],\n",
       "       [  2.        ,  -4.21663809, 502.        , 486.64523935,\n",
       "        -26.3355843 ],\n",
       "       [  2.        ,  -1.37569772, 486.64523935, 502.        ,\n",
       "        -25.77755928],\n",
       "       [  2.        ,   2.55874243, -26.3355843 , -25.77755928,\n",
       "        502.        ]])"
      ]
     },
     "execution_count": 34,
     "metadata": {},
     "output_type": "execute_result"
    }
   ],
   "source": [
    "test = Xr_norm_offset\n",
    "regtest = 2"
   ]
  },
  {
   "cell_type": "code",
   "execution_count": 36,
   "id": "7ae9132b-59ae-4d5d-8e16-630f5b87522e",
   "metadata": {
    "id": "7ae9132b-59ae-4d5d-8e16-630f5b87522e",
    "tags": []
   },
   "outputs": [],
   "source": [
    "# 3c. Write your ridge function (fill this in)\n",
    "\n",
    "def ridge(X,y,lam):\n",
    "    reg = lam*np.eye(X.shape[1])\n",
    "    reg[0,0] = 0 #set intercept regterm to 0\n",
    "    wr = np.linalg.inv(X.T@X+reg)@X.T@y\n",
    "        \n",
    "\n",
    "    return wr"
   ]
  },
  {
   "cell_type": "code",
   "execution_count": 37,
   "id": "53515b94-625b-48ca-a959-ee2677e94503",
   "metadata": {
    "id": "53515b94-625b-48ca-a959-ee2677e94503",
    "tags": []
   },
   "outputs": [],
   "source": [
    "# 3d. Fit the model with different values of lambda in the [0 100] interval\n",
    "# Hint: remember to zscore/center X and y!\n",
    "\n",
    "wr_all    = np.zeros((100,4))\n",
    "lams      = np.linspace(0,100,100)\n",
    "Xr_norm   = stats.zscore(Xr)\n",
    "Xr_norm_offset = X_offset(Xr_norm)\n",
    "ys        = yr-np.mean(yr)\n",
    "\n",
    "for i in range(len(lams)):\n",
    "    temp_w  = ridge(Xr_norm_offset, ys, lams[i])\n",
    "    wr_all[i,:] = temp_w[1:]\n",
    "    "
   ]
  },
  {
   "cell_type": "code",
   "execution_count": 41,
   "id": "628fa86b-07f6-4dc2-b59f-5c57a2cefa2f",
   "metadata": {
    "id": "628fa86b-07f6-4dc2-b59f-5c57a2cefa2f",
    "tags": []
   },
   "outputs": [
    {
     "data": {
      "text/plain": [
       "<matplotlib.legend.Legend at 0x7f0032dba670>"
      ]
     },
     "execution_count": 41,
     "metadata": {},
     "output_type": "execute_result"
    },
    {
     "data": {
      "image/png": "[encoded data removed]",
      "text/plain": [
       "<Figure size 640x480 with 1 Axes>"
      ]
     },
     "metadata": {},
     "output_type": "display_data"
    }
   ],
   "source": [
    "# 3d. Plot each weight as a function of lambda (on the same axis)\n",
    "\n",
    "plt.figure()\n",
    "plt.plot(lams,wr_all[:,0], label='0')\n",
    "plt.plot(lams,wr_all[:,1], label='1')\n",
    "plt.plot(lams,wr_all[:,2], label='2')\n",
    "plt.plot(lams,wr_all[:,3], label='3')\n",
    "plt.legend()"
   ]
  },
  {
   "cell_type": "code",
   "execution_count": null,
   "id": "a0572fc8-9e95-4703-863d-ea0941c1cd5b",
   "metadata": {
    "id": "a0572fc8-9e95-4703-863d-ea0941c1cd5b"
   },
   "outputs": [],
   "source": [
    "# 3d. What happens to weights for correlated vs. uncorrelated variables? (answer as a comment)\n",
    "#uncorrelated variable weights were essentially unchanged, while correlated variables converged to similar numbers.\n"
   ]
  },
  {
   "cell_type": "markdown",
   "id": "fa68bf51-7c37-4710-ae29-1d914152d7bc",
   "metadata": {
    "id": "fa68bf51-7c37-4710-ae29-1d914152d7bc"
   },
   "source": [
    "## Problem 4: Bernoulli GLM (logistic regression) of behavioral choice ##\n",
    "\n",
    "Now you get to play with some Pinto lab data! :-D <br>\n",
    "This is choice data from the accumulating-towers task (Pinto*, Koay* et al, 2018, Front Behav Neurosci). Please refer to the paper if you're curious about the details. <br>\n",
    "What you need to know for this problem is that mice navigate a virtual T maze, and experience pulsed visual stimuli (towers), which occur randomly (following Poisson statistics) on the right (R) and left (L) sides of the maze. This means that, on different trials, there are different number of R and L towers. The mice get rewarded for turning into the side arm corresponding to the side where they saw the most towers. Indeed, we see that their performance is clearly modulated by the amount of sensory evidence, which we will parametrize as \\\\( \\Delta_{towers} = num. R \\ – \\ num. L\\\\). The thing that makes this problem fun, though, is that the ideal strategy is to just pay attention to the towers (since reward is deterministic), but mice often go through bouts of non-stimulus-driven startegies, like exploration (\"let me check out the other arm just in case\"), perseveration (\"whatever, I'm just picking left no matter what\"), reward-based strategies (win-stay, win-shift). What's in common about these non-stimulus-driven strategies is that they all depend on the history of previous rewards and behavioral choices. We will use regression to estimate the relative impact of those strategies. <br>\n",
    "\n",
    "**4a**. Load the data (see comments below for an explanation of the format) <br>\n",
    "**4b**. Build \\\\(X\\\\) and \\\\(y\\\\) for three GLMs (some tips below): <br>\n",
    "1) Just \\\\(\\Delta_{towers}\\\\) <br>\n",
    "2) \\\\(\\Delta_{towers}\\\\) and two history terms going one trial back: \\\\(choice\\\\) and \\\\(choice \\times reward\\\\). The latter is an interaction term (literally modeled by their multiplication), which captures what happens after a left or a a right choice is rewarded (or not) <br>\n",
    "3) Same as 2, but with history predictors going up to 5 trials back <br>\n",
    "\n",
    "**4c**. Set up 3 rounds of 10-fold cross-validation for each model, using the same seed, fit without regularization, and quantify goodness of fit on held-out data by computing the proportion of correctly classified choices (i.e., the accuracy). <br>\n",
    "**4d**. Plot the accuracy across each cross-validation run to see which is the best model. <br>\n",
    "**4e**. Plot the weights for the best model (average and std across cross-validation runs). Which feature is most predictive of performance? What do the signs of the weights mean? <br>\n",
    "**4f**. For the best model only, refit with L1 regularization, and print the average weights. What are the differences in the weights, if any? What does that say about the data? <br>"
   ]
  },
  {
   "cell_type": "code",
   "execution_count": 27,
   "id": "1a775271-4953-4299-b11b-ec609a73831b",
   "metadata": {
    "id": "1a775271-4953-4299-b11b-ec609a73831b",
    "outputId": "7a40b816-4d81-4337-ea8a-fc0335e3f71a",
    "tags": []
   },
   "outputs": [
    {
     "data": {
      "text/html": [
       "<div>\n",
       "<style scoped>\n",
       "    .dataframe tbody tr th:only-of-type {\n",
       "        vertical-align: middle;\n",
       "    }\n",
       "\n",
       "    .dataframe tbody tr th {\n",
       "        vertical-align: top;\n",
       "    }\n",
       "\n",
       "    .dataframe thead th {\n",
       "        text-align: right;\n",
       "    }\n",
       "</style>\n",
       "<table border=\"1\" class=\"dataframe\">\n",
       "  <thead>\n",
       "    <tr style=\"text-align: right;\">\n",
       "      <th></th>\n",
       "      <th>subject_fullname</th>\n",
       "      <th>session_date</th>\n",
       "      <th>session_number</th>\n",
       "      <th>trial_id</th>\n",
       "      <th>trial_type</th>\n",
       "      <th>choice</th>\n",
       "      <th>num_towers_right</th>\n",
       "      <th>num_towers_left</th>\n",
       "      <th>num_towers_delta</th>\n",
       "      <th>trial_duration</th>\n",
       "      <th>block_performance</th>\n",
       "      <th>is_first_trial_of_block</th>\n",
       "    </tr>\n",
       "  </thead>\n",
       "  <tbody>\n",
       "    <tr>\n",
       "      <th>117</th>\n",
       "      <td>jlt6316_Chomp</td>\n",
       "      <td>2023-06-08</td>\n",
       "      <td>1</td>\n",
       "      <td>118</td>\n",
       "      <td>R</td>\n",
       "      <td>R</td>\n",
       "      <td>9</td>\n",
       "      <td>1</td>\n",
       "      <td>8</td>\n",
       "      <td>8.95949</td>\n",
       "      <td>0.6</td>\n",
       "      <td>1</td>\n",
       "    </tr>\n",
       "    <tr>\n",
       "      <th>118</th>\n",
       "      <td>jlt6316_Chomp</td>\n",
       "      <td>2023-06-08</td>\n",
       "      <td>1</td>\n",
       "      <td>119</td>\n",
       "      <td>R</td>\n",
       "      <td>R</td>\n",
       "      <td>9</td>\n",
       "      <td>0</td>\n",
       "      <td>9</td>\n",
       "      <td>8.62593</td>\n",
       "      <td>0.6</td>\n",
       "      <td>0</td>\n",
       "    </tr>\n",
       "    <tr>\n",
       "      <th>119</th>\n",
       "      <td>jlt6316_Chomp</td>\n",
       "      <td>2023-06-08</td>\n",
       "      <td>1</td>\n",
       "      <td>120</td>\n",
       "      <td>L</td>\n",
       "      <td>R</td>\n",
       "      <td>2</td>\n",
       "      <td>4</td>\n",
       "      <td>-2</td>\n",
       "      <td>8.71748</td>\n",
       "      <td>0.6</td>\n",
       "      <td>0</td>\n",
       "    </tr>\n",
       "    <tr>\n",
       "      <th>120</th>\n",
       "      <td>jlt6316_Chomp</td>\n",
       "      <td>2023-06-08</td>\n",
       "      <td>1</td>\n",
       "      <td>121</td>\n",
       "      <td>L</td>\n",
       "      <td>R</td>\n",
       "      <td>4</td>\n",
       "      <td>10</td>\n",
       "      <td>-6</td>\n",
       "      <td>8.51737</td>\n",
       "      <td>0.6</td>\n",
       "      <td>0</td>\n",
       "    </tr>\n",
       "    <tr>\n",
       "      <th>121</th>\n",
       "      <td>jlt6316_Chomp</td>\n",
       "      <td>2023-06-08</td>\n",
       "      <td>1</td>\n",
       "      <td>122</td>\n",
       "      <td>L</td>\n",
       "      <td>R</td>\n",
       "      <td>2</td>\n",
       "      <td>7</td>\n",
       "      <td>-5</td>\n",
       "      <td>8.30914</td>\n",
       "      <td>0.6</td>\n",
       "      <td>0</td>\n",
       "    </tr>\n",
       "    <tr>\n",
       "      <th>...</th>\n",
       "      <td>...</td>\n",
       "      <td>...</td>\n",
       "      <td>...</td>\n",
       "      <td>...</td>\n",
       "      <td>...</td>\n",
       "      <td>...</td>\n",
       "      <td>...</td>\n",
       "      <td>...</td>\n",
       "      <td>...</td>\n",
       "      <td>...</td>\n",
       "      <td>...</td>\n",
       "      <td>...</td>\n",
       "    </tr>\n",
       "    <tr>\n",
       "      <th>77443</th>\n",
       "      <td>jlt6316_JsChileanGrouper</td>\n",
       "      <td>2024-02-06</td>\n",
       "      <td>1</td>\n",
       "      <td>87</td>\n",
       "      <td>R</td>\n",
       "      <td>L</td>\n",
       "      <td>10</td>\n",
       "      <td>1</td>\n",
       "      <td>9</td>\n",
       "      <td>7.39246</td>\n",
       "      <td>0.5</td>\n",
       "      <td>0</td>\n",
       "    </tr>\n",
       "    <tr>\n",
       "      <th>77444</th>\n",
       "      <td>jlt6316_JsChileanGrouper</td>\n",
       "      <td>2024-02-06</td>\n",
       "      <td>1</td>\n",
       "      <td>88</td>\n",
       "      <td>L</td>\n",
       "      <td>L</td>\n",
       "      <td>4</td>\n",
       "      <td>9</td>\n",
       "      <td>-5</td>\n",
       "      <td>7.20059</td>\n",
       "      <td>0.5</td>\n",
       "      <td>0</td>\n",
       "    </tr>\n",
       "    <tr>\n",
       "      <th>77445</th>\n",
       "      <td>jlt6316_JsChileanGrouper</td>\n",
       "      <td>2024-02-06</td>\n",
       "      <td>1</td>\n",
       "      <td>89</td>\n",
       "      <td>L</td>\n",
       "      <td>L</td>\n",
       "      <td>2</td>\n",
       "      <td>6</td>\n",
       "      <td>-4</td>\n",
       "      <td>7.31712</td>\n",
       "      <td>0.5</td>\n",
       "      <td>0</td>\n",
       "    </tr>\n",
       "    <tr>\n",
       "      <th>77446</th>\n",
       "      <td>jlt6316_JsChileanGrouper</td>\n",
       "      <td>2024-02-06</td>\n",
       "      <td>1</td>\n",
       "      <td>90</td>\n",
       "      <td>L</td>\n",
       "      <td>L</td>\n",
       "      <td>3</td>\n",
       "      <td>5</td>\n",
       "      <td>-2</td>\n",
       "      <td>7.95918</td>\n",
       "      <td>0.5</td>\n",
       "      <td>0</td>\n",
       "    </tr>\n",
       "    <tr>\n",
       "      <th>77447</th>\n",
       "      <td>jlt6316_JsChileanGrouper</td>\n",
       "      <td>2024-02-06</td>\n",
       "      <td>1</td>\n",
       "      <td>91</td>\n",
       "      <td>R</td>\n",
       "      <td>L</td>\n",
       "      <td>5</td>\n",
       "      <td>1</td>\n",
       "      <td>4</td>\n",
       "      <td>7.42557</td>\n",
       "      <td>0.5</td>\n",
       "      <td>0</td>\n",
       "    </tr>\n",
       "  </tbody>\n",
       "</table>\n",
       "<p>33421 rows × 12 columns</p>\n",
       "</div>"
      ],
      "text/plain": [
       "               subject_fullname session_date  session_number  trial_id  \\\n",
       "117               jlt6316_Chomp   2023-06-08               1       118   \n",
       "118               jlt6316_Chomp   2023-06-08               1       119   \n",
       "119               jlt6316_Chomp   2023-06-08               1       120   \n",
       "120               jlt6316_Chomp   2023-06-08               1       121   \n",
       "121               jlt6316_Chomp   2023-06-08               1       122   \n",
       "...                         ...          ...             ...       ...   \n",
       "77443  jlt6316_JsChileanGrouper   2024-02-06               1        87   \n",
       "77444  jlt6316_JsChileanGrouper   2024-02-06               1        88   \n",
       "77445  jlt6316_JsChileanGrouper   2024-02-06               1        89   \n",
       "77446  jlt6316_JsChileanGrouper   2024-02-06               1        90   \n",
       "77447  jlt6316_JsChileanGrouper   2024-02-06               1        91   \n",
       "\n",
       "      trial_type choice num_towers_right num_towers_left num_towers_delta  \\\n",
       "117            R      R                9               1                8   \n",
       "118            R      R                9               0                9   \n",
       "119            L      R                2               4               -2   \n",
       "120            L      R                4              10               -6   \n",
       "121            L      R                2               7               -5   \n",
       "...          ...    ...              ...             ...              ...   \n",
       "77443          R      L               10               1                9   \n",
       "77444          L      L                4               9               -5   \n",
       "77445          L      L                2               6               -4   \n",
       "77446          L      L                3               5               -2   \n",
       "77447          R      L                5               1                4   \n",
       "\n",
       "       trial_duration  block_performance is_first_trial_of_block  \n",
       "117           8.95949                0.6                       1  \n",
       "118           8.62593                0.6                       0  \n",
       "119           8.71748                0.6                       0  \n",
       "120           8.51737                0.6                       0  \n",
       "121           8.30914                0.6                       0  \n",
       "...               ...                ...                     ...  \n",
       "77443         7.39246                0.5                       0  \n",
       "77444         7.20059                0.5                       0  \n",
       "77445         7.31712                0.5                       0  \n",
       "77446         7.95918                0.5                       0  \n",
       "77447         7.42557                0.5                       0  \n",
       "\n",
       "[33421 rows x 12 columns]"
      ]
     },
     "execution_count": 27,
     "metadata": {},
     "output_type": "execute_result"
    }
   ],
   "source": [
    "# 4a. Load the data\n",
    "# This is a dataframe with some pre-selected data from 4 mice performing the task,\n",
    "# where each row corresponds to a behavioral trial (n=33421). The columns you will need for X are:\n",
    "#       trial_type: whether this is a trial where the reward is on the R or L\n",
    "#       choice: which way the mouse turned\n",
    "#       num_towers_delta: #R – #L towers\n",
    "#       is_first_trial_of_block: we will need this to determine trial history (more on this below)\n",
    "\n",
    "filename    = '../data/nuin443_towers_df.pickle?rlkey=5td9e8dl0zwy1qgdpb8i2cgqb'\n",
    "with open(filename, 'rb') as handle:\n",
    "    towers_trial_df = pd.read_pickle(handle)\n",
    "\n",
    "towers_trial_df"
   ]
  },
  {
   "cell_type": "code",
   "execution_count": 83,
   "id": "a403ad5c-b12f-40e2-8c46-d661370b3928",
   "metadata": {
    "id": "a403ad5c-b12f-40e2-8c46-d661370b3928"
   },
   "outputs": [],
   "source": [
    "# 4b. set up y and X's.\n",
    "# y should be a vector of 1's and 0's, where 1 == right and 0 == left (Bernoulli variable)\n",
    "# set up the 3 models above as X_1, X_2, and X_3\n",
    "# for setting up trial history terms, I recommend parametrizing choice as -1 and 1 instead.\n",
    "# This is because of the interaction term should have three behaviors: didn't get reward (0),\n",
    "# got a reward on the left (-1), got a reward on the right (1). This different parametrization\n",
    "# doesn't matter because you will z-score X... right?\n",
    "# also, you can tell if there was a reward by comparing choice and trial type\n",
    "\n",
    "# build y\n",
    "ch_str     = towers_trial_df['choice'].to_numpy()\n",
    "num_trials = len(ch_str)\n",
    "y          = np.zeros(num_trials)\n",
    "y[ch_str=='R'] = 1\n",
    "\n",
    "# build the relevant vectors\n",
    "choice              = np.zeros(num_trials)\n",
    "choice[ch_str=='R'] = 1\n",
    "choice[ch_str=='L'] = -1\n",
    "\n",
    "tt_str                  = towers_trial_df['trial_type'].to_numpy()\n",
    "trial_type              = np.zeros(num_trials)\n",
    "trial_type[tt_str=='R'] = 1\n",
    "trial_type[tt_str=='L'] = -1\n",
    "\n",
    "reward        = (choice == trial_type).astype(float)\n",
    "reward_choice = reward*choice\n",
    "\n",
    "delta_towers  = (towers_trial_df['num_towers_delta'].to_numpy()).astype(float)\n",
    "\n",
    "\n",
    "# build X_1, X_2, X_3 (fill this in) (remember the lags strategy from the lecture)\n",
    "\n",
    "\n",
    "\n",
    "# Now there is a crucial step.\n",
    "# This is actually in the context on a task switching paradigm, s.t. not\n",
    "# every trial is contiguous. And also, we are concatenating sessions.\n",
    "# We can tell that by the column is_first_trial_of_block, a boolean\n",
    "# that equals 1 (True) for trials that do not have history.\n",
    "# Also, because model X_3 goes 5 trials back, the first 4 trials\n",
    "# in the block do not have history and need to be deleted from the rows of X's and y.\n",
    "# This is only necessary for X_3, but we want exactly the same trials in every\n",
    "# model for fair comparison.\n",
    "# The final trial count should be 19,720\n",
    "# (fill this in)\n",
    "\n",
    "#lets make a boolean mask\n",
    "is_first_trial = towers_trial_df.is_first_trial_of_block.to_numpy().astype(int)\n",
    "\n",
    "\n",
    "\n",
    "#this func generates a mask. To make lags, we offset where our \"window\" is in our trial.\n",
    "\n",
    "def gen_mask(is_first_trial, lag=0):\n",
    "    output_mask = np.zeros(is_first_trial.shape)\n",
    "    first_trial_idx = np.nonzero(is_first_trial)[0]\n",
    "    first_trial_idx = np.append(first_trial_idx, len(is_first_trial)) #lil hacky\n",
    "    for i in range(len(first_trial_idx)-1):\n",
    "        start = first_trial_idx[i] + 4\n",
    "        stop = first_trial_idx[i+1]\n",
    "        output_mask[(start - lag):(stop-lag)] = 1 #keep these\n",
    "        \n",
    "    return np.array(output_mask, dtype='bool') #i fill like i never had to explicitly set this before\n",
    "\n",
    "nolag_mask = gen_mask(is_first_trial, lag=0)\n",
    "    \n",
    "X_1 = delta_towers[nolag_mask]\n",
    "X_1 = X_1.reshape(-1, 1)\n",
    "\n",
    "onelag_mask = gen_mask(is_first_trial, lag=1)\n",
    "\n",
    "X_2 = np.empty((19720,3)) #hard coding, dont look\n",
    "X_2[:,0] = delta_towers[nolag_mask]\n",
    "X_2[:,1] = reward[onelag_mask]\n",
    "X_2[:,2] = reward_choice[onelag_mask]\n",
    "\n",
    "X_3 = np.empty((19720,9)) #hard coding, dont look\n",
    "X_3[:,0] = delta_towers[nolag_mask]\n",
    "nlags = np.arange(1, 5)\n",
    "for this_lag in nlags:\n",
    "    temp_mask = gen_mask(is_first_trial, this_lag)\n",
    "    X_3[:, this_lag] = reward[temp_mask]\n",
    "    X_3[:, this_lag+4] = reward_choice[temp_mask]\n",
    "\n",
    "y_mask = y[nolag_mask]\n",
    "\n",
    "\n",
    "# z score\n",
    "X_1   = stats.zscore(X_1)\n",
    "X_2   = stats.zscore(X_2)\n",
    "X_3   = stats.zscore(X_3)\n",
    "\n",
    "# put in a list for easy iteration\n",
    "Xlist = [X_1,X_2,X_3]"
   ]
  },
  {
   "cell_type": "code",
   "execution_count": 89,
   "id": "0777b428-4059-45bd-b27e-8e62e73a8e16",
   "metadata": {
    "id": "0777b428-4059-45bd-b27e-8e62e73a8e16"
   },
   "outputs": [
    {
     "name": "stdout",
     "output_type": "stream",
     "text": [
      "Model 0...\n",
      "0.7072909623619563\n",
      "0.6937119675456389\n",
      "0.7054879423033581\n",
      "0.7099391480730223\n",
      "0.7050935316655398\n",
      "0.7134888438133874\n",
      "0.7062767635789948\n",
      "0.7028397565922921\n",
      "0.7056569754338518\n",
      "0.7084178498985801\n",
      "0.7068965517241379\n",
      "0.697261663286004\n",
      "0.7052062204192021\n",
      "0.712474645030426\n",
      "0.7052062204192021\n",
      "0.712474645030426\n",
      "0.7056569754338518\n",
      "0.7084178498985801\n",
      "0.7065584854631508\n",
      "0.7003042596348884\n",
      "0.706333107955826\n",
      "0.7023326572008114\n",
      "0.7086432274059049\n",
      "0.6815415821501014\n",
      "0.704304710389903\n",
      "0.7205882352941176\n",
      "0.7059950416948388\n",
      "0.7053752535496958\n",
      "0.7072346179851251\n",
      "0.6942190669371197\n",
      "0.7049244985350462\n",
      "0.7150101419878296\n",
      "0.7057133198106829\n",
      "0.7079107505070994\n",
      "0.706333107955826\n",
      "0.7023326572008114\n",
      "0.7043610547667343\n",
      "0.7200811359026369\n",
      "0.7054879423033581\n",
      "0.7099391480730223\n",
      "0.7065584854631508\n",
      "0.7003042596348884\n",
      "0.703121478476448\n",
      "0.731237322515213\n",
      "0.7092066711742168\n",
      "0.6764705882352942\n",
      "0.703966644128916\n",
      "0.723630831643002\n",
      "0.7055442866801893\n",
      "0.7094320486815415\n",
      "0.7057133198106829\n",
      "0.7079107505070994\n",
      "0.7062767635789948\n",
      "0.7028397565922921\n",
      "0.7062767635789948\n",
      "0.7028397565922921\n",
      "0.7060513860716701\n",
      "0.704868154158215\n",
      "0.7066148298399819\n",
      "0.6997971602434077\n",
      "Model 1...\n",
      "0.7072909623619563\n",
      "0.6937119675456389\n",
      "0.7054879423033581\n",
      "0.7099391480730223\n",
      "0.7050935316655398\n",
      "0.7134888438133874\n",
      "0.706333107955826\n",
      "0.7023326572008114\n",
      "0.7056569754338518\n",
      "0.7084178498985801\n",
      "0.7068965517241379\n",
      "0.697261663286004\n",
      "0.7052062204192021\n",
      "0.712474645030426\n",
      "0.705149876042371\n",
      "0.7129817444219066\n",
      "0.7056569754338518\n",
      "0.7084178498985801\n",
      "0.7065584854631508\n",
      "0.7003042596348884\n",
      "0.7062767635789948\n",
      "0.7028397565922921\n",
      "0.7086432274059049\n",
      "0.6815415821501014\n",
      "0.704304710389903\n",
      "0.7205882352941176\n",
      "0.7059386973180076\n",
      "0.7058823529411765\n",
      "0.7072909623619563\n",
      "0.6937119675456389\n",
      "0.7049244985350462\n",
      "0.7150101419878296\n",
      "0.7057133198106829\n",
      "0.7079107505070994\n",
      "0.7063894523326572\n",
      "0.7018255578093306\n",
      "0.7043610547667343\n",
      "0.7200811359026369\n",
      "0.7054879423033581\n",
      "0.7099391480730223\n",
      "0.7065021410863196\n",
      "0.7008113590263692\n",
      "0.7031778228532792\n",
      "0.7307302231237323\n",
      "0.7092066711742168\n",
      "0.6764705882352942\n",
      "0.703966644128916\n",
      "0.723630831643002\n",
      "0.7055442866801893\n",
      "0.7094320486815415\n",
      "0.7057696641875141\n",
      "0.7074036511156186\n",
      "0.7062767635789948\n",
      "0.7028397565922921\n",
      "0.7062767635789948\n",
      "0.7028397565922921\n",
      "0.7060513860716701\n",
      "0.704868154158215\n",
      "0.7065584854631508\n",
      "0.7003042596348884\n",
      "Model 2...\n",
      "0.7081361280144242\n",
      "0.6932048681541582\n",
      "0.7070655848546316\n",
      "0.710446247464503\n",
      "0.7063894523326572\n",
      "0.7155172413793104\n",
      "0.7078544061302682\n",
      "0.7013184584178499\n",
      "0.7068402073473068\n",
      "0.710446247464503\n",
      "0.7076290286229434\n",
      "0.7023326572008114\n",
      "0.706333107955826\n",
      "0.7134888438133874\n",
      "0.7068965517241379\n",
      "0.7129817444219066\n",
      "0.7069528961009691\n",
      "0.7089249492900609\n",
      "0.7076290286229434\n",
      "0.7013184584178499\n",
      "0.7088122605363985\n",
      "0.699290060851927\n",
      "0.708981293666892\n",
      "0.6845841784989858\n",
      "0.7054879423033581\n",
      "0.723630831643002\n",
      "0.7075726842461122\n",
      "0.7018255578093306\n",
      "0.7090939824205544\n",
      "0.691683569979716\n",
      "0.706333107955826\n",
      "0.716024340770791\n",
      "0.7071219292314627\n",
      "0.7068965517241379\n",
      "0.7076853729997746\n",
      "0.704868154158215\n",
      "0.7052625647960333\n",
      "0.7246450304259635\n",
      "0.7061640748253324\n",
      "0.712474645030426\n",
      "0.7075726842461122\n",
      "0.7079107505070994\n",
      "0.7052062204192021\n",
      "0.7231237322515213\n",
      "0.710727969348659\n",
      "0.6754563894523327\n",
      "0.7050935316655398\n",
      "0.7276876267748479\n",
      "0.7064457967094884\n",
      "0.7155172413793104\n",
      "0.7071782736082939\n",
      "0.7063894523326572\n",
      "0.7076290286229434\n",
      "0.7033468559837728\n",
      "0.7070092404778003\n",
      "0.7058823529411765\n",
      "0.7073473067387874\n",
      "0.7033468559837728\n",
      "0.7085305386522425\n",
      "0.6997971602434077\n"
     ]
    }
   ],
   "source": [
    "# 4c. Set up 3 rounds of 10-fold cross-validation for each model, using the same seed\n",
    "# fit without regularization and quantify goodness of fit on held-out data\n",
    "# by computing the proportion of correctly classified choices (i.e., the accuracy).\n",
    "\n",
    "import warnings\n",
    "warnings.filterwarnings('ignore')\n",
    "# cross-validation set up\n",
    "num_fold    = 10\n",
    "num_repeats = 3\n",
    "kf          = RepeatedKFold(n_splits=num_fold,n_repeats=num_repeats,random_state=42)\n",
    "\n",
    "# set up model\n",
    "model_noreg = LogisticRegression(penalty='none',max_iter=500,solver='saga')\n",
    "\n",
    "# cross-validate\n",
    "fits_noreg  = [[],[],[]]\n",
    "acc_noreg   = [[],[],[]]\n",
    "coef_noreg  = [[],[],[]]\n",
    "\n",
    "for iModel in range(len(Xlist)):\n",
    "    print(f\"Model {iModel}...\")\n",
    "    for iXval, (train_index, test_index) in enumerate(kf.split(Xlist[iModel])):\n",
    "        temp_x = Xlist[iModel]\n",
    "        train_x = temp_x[train_index,:]\n",
    "        train_y = y_mask[train_index]\n",
    "\n",
    "        \n",
    "        test_x = temp_x[test_index,:]\n",
    "        test_y = y_mask[test_index]\n",
    "        model_noreg.fit(train_x, train_y)\n",
    "        fits_noreg[iModel].append(model_noreg.score(train_x, train_y))\n",
    "        print(fits_noreg[iModel][-1])\n",
    "        acc_noreg[iModel].append(model_noreg.score(test_x, test_y))\n",
    "        print(acc_noreg[iModel][-1])\n",
    "        coef_noreg[iModel].append(model_noreg.coef_)\n",
    "        # (fill this in)"
   ]
  },
  {
   "cell_type": "code",
   "execution_count": 85,
   "id": "1d0ef6a9-952a-4d9f-baa7-fab34599ba43",
   "metadata": {
    "id": "1d0ef6a9-952a-4d9f-baa7-fab34599ba43"
   },
   "outputs": [
    {
     "data": {
      "text/plain": [
       "<ErrorbarContainer object of 3 artists>"
      ]
     },
     "execution_count": 85,
     "metadata": {},
     "output_type": "execute_result"
    },
    {
     "data": {
      "application/vnd.jupyter.widget-view+json": {
       "model_id": "90d00264a9064843a97f0fafc3fb99f5",
       "version_major": 2,
       "version_minor": 0
      },
      "image/png": "[encoded data removed]",
      "text/html": [
       "\n",
       "            <div style=\"display: inline-block;\">\n",
       "                <div class=\"jupyter-widgets widget-label\" style=\"text-align: center;\">\n",
       "                    Figure\n",
       "                </div>\n",
       "                <img src='data:image/png;base64,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' width=640.0/>\n",
       "            </div>\n",
       "        "
      ],
      "text/plain": [
       "Canvas(toolbar=Toolbar(toolitems=[('Home', 'Reset original view', 'home', 'home'), ('Back', 'Back to previous …"
      ]
     },
     "metadata": {},
     "output_type": "display_data"
    }
   ],
   "source": [
    "# 4d. Plot the accuracy across each cross-validation run to see which is the best model,\n",
    "# connecting the corresponding cross-val runs with lines\n",
    "\n",
    "acc = np.array(acc_noreg)\n",
    "acc_mean = np.mean(acc,axis=1)\n",
    "acc_std = np.std(acc,axis=1,ddof=1)\n",
    "plt.figure()\n",
    "for i in range(np.size(acc,axis=1)):\n",
    "    plt.plot(np.arange(3),acc[:,i],c='grey')\n",
    "plt.scatter(np.arange(3),acc_mean,c='k')\n",
    "plt.errorbar(np.arange(3),acc_mean,acc_std,c='k')"
   ]
  },
  {
   "cell_type": "code",
   "execution_count": 60,
   "id": "a909abbe-9291-4ea9-a708-f8144aacecbd",
   "metadata": {
    "id": "a909abbe-9291-4ea9-a708-f8144aacecbd"
   },
   "outputs": [
    {
     "ename": "ValueError",
     "evalue": "setting an array element with a sequence. The requested array has an inhomogeneous shape after 3 dimensions. The detected shape was (3, 30, 1) + inhomogeneous part.",
     "output_type": "error",
     "traceback": [
      "\u001b[0;31m---------------------------------------------------------------------------\u001b[0m",
      "\u001b[0;31mValueError\u001b[0m                                Traceback (most recent call last)",
      "Cell \u001b[0;32mIn[60], line 3\u001b[0m\n\u001b[1;32m      1\u001b[0m \u001b[38;5;66;03m# 4e. Plot weights of best model (average and std across cross-validation runs)\u001b[39;00m\n\u001b[1;32m      2\u001b[0m best_idx \u001b[38;5;241m=\u001b[39m best_model_idx\n\u001b[0;32m----> 3\u001b[0m coeffs \u001b[38;5;241m=\u001b[39m \u001b[43mnp\u001b[49m\u001b[38;5;241;43m.\u001b[39;49m\u001b[43marray\u001b[49m\u001b[43m(\u001b[49m\u001b[43mcoef_noreg\u001b[49m\u001b[43m)\u001b[49m\n\u001b[1;32m      4\u001b[0m coeffs   \u001b[38;5;241m=\u001b[39m coeffs\u001b[38;5;241m.\u001b[39mflatten()[best_model_idx]\n\u001b[1;32m      5\u001b[0m coeffs_m \u001b[38;5;241m=\u001b[39m np\u001b[38;5;241m.\u001b[39mmean(coeffs,axis\u001b[38;5;241m=\u001b[39m\u001b[38;5;241m0\u001b[39m)\n",
      "\u001b[0;31mValueError\u001b[0m: setting an array element with a sequence. The requested array has an inhomogeneous shape after 3 dimensions. The detected shape was (3, 30, 1) + inhomogeneous part."
     ]
    }
   ],
   "source": [
    "# 4e. Plot weights of best model (average and std across cross-validation runs)\n",
    "model_type, model_num = np.unravel_index(acc.argmax(), acc.shape)\n",
    "coeffs   = coef_no_reg[model_type][model_num]\n",
    "coeffs_m = np.mean(coeffs,axis=0)\n",
    "coeffs_s = np.std(coeffs,axis=0,ddof=1)\n",
    "\n",
    "plt.figure()\n",
    "plt.scatter(0,coeffs_m[0],c='k')\n",
    "plt.errorbar(0,coeffs_m[0],coeffs_s[0],c='k')\n",
    "thisx = np.arange(1,1+num_hist)\n",
    "plt.scatter(thisx+1,coeffs_m[thisx],c='k')\n",
    "plt.errorbar(thisx+1,coeffs_m[thisx],coeffs_s[thisx],c='k')\n",
    "thisx = np.arange(1+num_hist,len(coeffs_s))\n",
    "plt.scatter(thisx+2,coeffs_m[thisx],c='k')\n",
    "plt.errorbar(thisx+2,coeffs_m[thisx],coeffs_s[thisx],c='k')"
   ]
  },
  {
   "cell_type": "code",
   "execution_count": null,
   "id": "1fda3257-2721-45e4-bf1b-d77f26bdec42",
   "metadata": {
    "id": "1fda3257-2721-45e4-bf1b-d77f26bdec42"
   },
   "outputs": [],
   "source": [
    "# 4e. Which feature is most predictive of performance? What do the signs of the weights mean?\n",
    "# (answer as a comment)\n",
    "\n",
    "\n"
   ]
  },
  {
   "cell_type": "code",
   "execution_count": null,
   "id": "61b113e4-4502-4dab-bec6-17373c864686",
   "metadata": {
    "id": "61b113e4-4502-4dab-bec6-17373c864686"
   },
   "outputs": [],
   "source": [
    "# 4f. For the best model only, refit with L1 regularization, and print the average weights.\n",
    "model_l1 = LogisticRegression(penalty='l1',max_iter=500,solver='saga')\n",
    "fits_l1  = [[],[],[]]\n",
    "acc_l1   = [[],[],[]]\n",
    "coef_l1  = [[],[],[]]\n",
    "\n",
    "iModel = best_idx\n",
    "print(f\"Model {iModel}...\")\n",
    "for iXval, (train_index, test_index) in enumerate(kf.split(Xlist[iModel])):\n",
    "        temp_x = Xlist[iModel]\n",
    "        train_x = temp_x[train_index,:]\n",
    "        train_y = y_mask[train_index]\n",
    "\n",
    "        \n",
    "        test_x = temp_x[test_index,:]\n",
    "        test_y = y_mask[test_index]\n",
    "        model_noreg.fit(train_x, train_y)\n",
    "        fits_noreg[iModel].append(model_noreg.score(train_x, train_y))\n",
    "        print(fits_noreg[iModel][-1])\n",
    "        acc_noreg[iModel].append(model_noreg.score(test_x, test_y))\n",
    "        print(acc_noreg[iModel][-1])\n",
    "        coef_noreg[iModel].append(model_noreg.coef_)\n",
    "    # fill in (it will be basically the same as 4c)\n",
    "\n",
    "# compare average coefficients with and without regularization\n"
   ]
  },
  {
   "cell_type": "code",
   "execution_count": null,
   "id": "5af277a1-ecc2-4ef5-8ed7-7cb3a9e1e6ff",
   "metadata": {
    "id": "5af277a1-ecc2-4ef5-8ed7-7cb3a9e1e6ff"
   },
   "outputs": [],
   "source": [
    "# 4f. What are the differences in the weights, if any? What does that say about the data?\n",
    "# (answer in a comment)\n",
    "\n"
   ]
  },
  {
   "cell_type": "markdown",
   "id": "43de4efe-1cae-4b5a-b1e6-3fc8f2529b82",
   "metadata": {
    "id": "43de4efe-1cae-4b5a-b1e6-3fc8f2529b82"
   },
   "source": [
    "## Bonus problem: Mixed-effects models ##\n",
    "\n",
    "**This is for the aficionados and will not be graded** <br>\n",
    "The dataset above has the classic clustered design in neuroscience: data is being combined across mice, and for each mice across sessions. <br>\n",
    "Fit a mixed-effects logistic regression model using random intercepts for mice (column **subject_fullname**) and sessions (column **session_date**)"
   ]
  },
  {
   "cell_type": "code",
   "execution_count": null,
   "id": "7416e6d9-fed6-4444-85c7-a8e8419c52c0",
   "metadata": {
    "id": "7416e6d9-fed6-4444-85c7-a8e8419c52c0"
   },
   "outputs": [],
   "source": [
    "# The pymer4 package is great for this: https://eshinjolly.com/pymer4/\n",
    "# If I recall correctly, it needs to have R installed\n",
    "\n",
    "from   pymer4.models import Lmer"
   ]
  }
 ],
 "metadata": {
  "colab": {
   "include_colab_link": true,
   "provenance": []
  },
  "kernelspec": {
   "display_name": "Python 3 (ipykernel)",
   "language": "python",
   "name": "python3"
  },
  "language_info": {
   "codemirror_mode": {
    "name": "ipython",
    "version": 3
   },
   "file_extension": ".py",
   "mimetype": "text/x-python",
   "name": "python",
   "nbconvert_exporter": "python",
   "pygments_lexer": "ipython3",
   "version": "3.8.16"
  }
 },
 "nbformat": 4,
 "nbformat_minor": 5
}
