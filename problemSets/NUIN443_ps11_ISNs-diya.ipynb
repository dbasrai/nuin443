{
 "cells": [
  {
   "cell_type": "markdown",
   "metadata": {
    "colab_type": "text",
    "id": "view-in-github"
   },
   "source": [
    "<a href=\"https://colab.research.google.com/github/lucas-pinto/NUIN443/blob/main/NUIN443_ps11_ISNs.ipynb\" target=\"_parent\"><img src=\"https://colab.research.google.com/assets/colab-badge.svg\" alt=\"Open In Colab\"/></a>"
   ]
  },
  {
   "cell_type": "code",
   "execution_count": 1,
   "metadata": {
    "id": "zTOmsoxiMYQe"
   },
   "outputs": [],
   "source": [
    "import numpy as np\n",
    "import matplotlib.pyplot as plt"
   ]
  },
  {
   "cell_type": "markdown",
   "metadata": {
    "id": "HVFPieXOMYQg"
   },
   "source": [
    "## Problem Set 11: Inhibition-Stabilized Networks\n",
    "\n",
    "Several papers have used simplified versions of the Wilson-Cowan model to study the dynamics of two-population networks, including the balanced amplification paper we learned about in journal club. Despite being a linear model, we can learn a fair bit from studying this system!\n",
    "\n",
    "Starting from the Wilson-Cowan model, we're going to ignore the effects of neurons' refractory periods and the nonlinearity of the population response function. This gives us a nice, linear 2D system of equations:\n",
    "\n",
    "\\begin{eqnarray}\n",
    "\\tau_e \\frac{d}{dt}E &=& -E + j_{ee}E - j_{ei}I + P_E \\\\\n",
    "\\tau_i \\frac{d}{dt}I &=& -I + j_{ie}E - j_{ii}I + P_I \\\\\n",
    "\\end{eqnarray}"
   ]
  },
  {
   "cell_type": "markdown",
   "metadata": {
    "id": "9uHCwJuJMYQj"
   },
   "source": [
    "### Problem 1: nullclines and fixed point of our system."
   ]
  },
  {
   "cell_type": "markdown",
   "metadata": {
    "id": "3RtcfzLvMYQj"
   },
   "source": [
    "<font color=violet>1a. Complete the `compute_nullclines` function to find the nullclines of our 2D system as functions of I. You'll be able to check your work by plotting these nullclines for a set of parameters in problem 1c below.</font>"
   ]
  },
  {
   "cell_type": "code",
   "execution_count": 12,
   "metadata": {
    "id": "GnjpPeZRMYQj"
   },
   "outputs": [],
   "source": [
    "def compute_nullclines(params, I):\n",
    "    tau_e    = params['tau_e']\n",
    "    tau_i    = params['tau_i']\n",
    "    input_e  = params['input_e']\n",
    "    input_i  = params['input_i']\n",
    "    j_ee     = params['j_ee']\n",
    "    j_ie     = params['j_ie']\n",
    "    j_ei     = params['j_ei']\n",
    "    j_ii     = params['j_ii']\n",
    "\n",
    "    nc_e = lambda I: (-j_ei*I + input_e) / (1-j_ee)\n",
    "    nc_i = lambda I: (I +j_ii*I - input_i) / j_ie\n",
    "\n",
    "    return nc_e(I), nc_i(I)"
   ]
  },
  {
   "cell_type": "markdown",
   "metadata": {
    "id": "g442RGihMYQk"
   },
   "source": [
    "Since both nullclines are simply straight lines (right?), we can find their intersection analytically. Say we have two equations of the form\n",
    "\\begin{eqnarray}\n",
    "y &=& m_1 x + b_1 \\\\\n",
    "y &=& m_2 x + b_2 \\\\\n",
    "\\end{eqnarray}\n",
    "\n",
    "then we know that at the point where they cross, these two lines have equal y-values. So we can solve for the x where this happens:\n",
    "\\begin{eqnarray}\n",
    "m_1 x + b_1 &=& m_2 x + b_2 \\\\\n",
    "(m_1 - m_2) x &=& b_2 - b_1 \\\\\n",
    "x &=& \\frac{b_2 - b_1}{m_1 - m_2}\n",
    "\\end{eqnarray}\n",
    "\n",
    "and plug this into on of our original equations then gives the corresponding value for y:\n",
    "\\begin{eqnarray}\n",
    "y &=& m_1 \\frac{b_2 - b_1}{m_1 - m_2} + b_1 \\\\\n",
    "\\end{eqnarray}"
   ]
  },
  {
   "cell_type": "markdown",
   "metadata": {
    "id": "sGbMgUnuMYQk"
   },
   "source": [
    "<font color=violet>1b. Complete the `find_fixedpoint` function to compute the location of the fixed point for this model.</font>"
   ]
  },
  {
   "cell_type": "code",
   "execution_count": 13,
   "metadata": {
    "id": "SY7cbDA_MYQk"
   },
   "outputs": [],
   "source": [
    "def find_fixedpoint(params):\n",
    "    tau_e    = params['tau_e']\n",
    "    tau_i    = params['tau_i']\n",
    "    input_e  = params['input_e']\n",
    "    input_i  = params['input_i']\n",
    "    j_ee     = params['j_ee']\n",
    "    j_ie     = params['j_ie']\n",
    "    j_ei     = params['j_ei']\n",
    "    j_ii     = params['j_ii']\n",
    "    \n",
    "    m1 = -j_ei / (1-j_ee)\n",
    "    b1 = input_e / (1-j_ee)\n",
    "    \n",
    "    m2 = (1+j_ii) / j_ie\n",
    "    b2 = -input_i / j_ie\n",
    "    \n",
    "    \n",
    "\n",
    "    e = m1 * ((b2-b1)/(m1-m2)) + b1\n",
    "    i = m2 * ((b2-b1)/(m1-m2)) + b2\n",
    "\n",
    "    return e,i"
   ]
  },
  {
   "cell_type": "markdown",
   "metadata": {
    "id": "LvFo-uCFMYQl"
   },
   "source": [
    "<font color=violet>1c. Now to see the results of these two functions you wrote, write a function that takes in the set of parameters below and plots both nullclines for I between 0 and 1, as well as marking the fixed point where they intersect. Indicate which nullcline is which in the figure legend.</font>"
   ]
  },
  {
   "cell_type": "code",
   "execution_count": 14,
   "metadata": {
    "id": "1jkx8004MYQl"
   },
   "outputs": [],
   "source": [
    "params = {\n",
    "    'tau_e':    60,   # time constant of the excitatory population in ms\n",
    "    'tau_i':    12,   # time constant of the inhibitory population in ms\n",
    "    'input_e':  1,    # external input to the excitatory population\n",
    "    'input_i':  1,    # external input to the inhibitory population\n",
    "    'j_ee':     2,    # weight of excitatory input to excitatory cells\n",
    "    'j_ei':     4,    # weight of inhibitory input to excitatory cells\n",
    "    'j_ie':     5,    # weight of excitatory input to inhibitory cells\n",
    "    'j_ii':     7     # weight of inhibitory input to inhibitory cells\n",
    "\n",
    "}"
   ]
  },
  {
   "cell_type": "code",
   "execution_count": 22,
   "metadata": {
    "id": "Wi9SzbgWMYQm"
   },
   "outputs": [
    {
     "data": {
      "image/png": "[encoded data removed]",
      "text/plain": [
       "<Figure size 640x480 with 1 Axes>"
      ]
     },
     "metadata": {},
     "output_type": "display_data"
    }
   ],
   "source": [
    "def plot_nullclines(params, i_min=0, i_max=1):\n",
    "    i_sweep = np.arange(i_min, i_max, .1)\n",
    "    nc_e_list = []\n",
    "    nc_i_list = []\n",
    "    for my_i in i_sweep:\n",
    "        temp1, temp2 = compute_nullclines(params, my_i)\n",
    "        nc_e_list.append(temp1)\n",
    "        nc_i_list.append(temp2)\n",
    "    plt.plot(i_sweep, nc_e_list)\n",
    "    plt.plot(i_sweep, nc_i_list)\n",
    "    x,y = find_fixedpoint(params)\n",
    "    plt.scatter(x,y)\n",
    "    \n",
    "    \n",
    "\n",
    "\n",
    "\n",
    "plot_nullclines(params)\n",
    "#plt.plot(a,b)"
   ]
  },
  {
   "cell_type": "markdown",
   "metadata": {
    "id": "96JgOmIxMYQm"
   },
   "source": [
    "### Problem 2: stability analysis of the fixed point.\n",
    "\n",
    "Recall from class that we can determine how a system will behave in the neighborhood of a fixed point by writing out the Jacobian matrix and evaluating it at that fixed point. Recall also the definition of the Jacobian at a point $(E^*,I^*)$ is:\n",
    "\n",
    "\\begin{equation}\n",
    "J =\n",
    "\\begin{bmatrix}\n",
    "\\frac{\\partial}{\\partial E} \\frac{dE}{dt}(E^*,I^*) & \\frac{\\partial}{\\partial I} \\frac{dE}{dt}(E^*,I^*) \\\\\n",
    "\\frac{\\partial}{\\partial E} \\frac{dI}{dt}(E^*,I^*) & \\frac{\\partial}{\\partial I} \\frac{dI}{dt}(E^*,I^*) \\\\\n",
    "\\end{bmatrix}\n",
    "\\end{equation}"
   ]
  },
  {
   "cell_type": "markdown",
   "metadata": {
    "id": "B8lBGtlFMYQn"
   },
   "source": [
    "<font color=violet>2a. Complete the following python function that computes the Jacobian matrix of our system, then find its Trace, Determinant, and eigenvalues for the provided set of parameters. (Hint: the values of the Jacobian for this system shouldn't depend on the point (E*,I*) at which it's computed.)</font>"
   ]
  },
  {
   "cell_type": "code",
   "execution_count": 26,
   "metadata": {
    "id": "IOzWHRy2MYQn"
   },
   "outputs": [
    {
     "name": "stdout",
     "output_type": "stream",
     "text": [
      "[[ 1.  4.]\n",
      " [ 5. -8.]]\n"
     ]
    }
   ],
   "source": [
    "def compute_jacobian(params, e=0, i=0):\n",
    "    tau_e    = params['tau_e']\n",
    "    tau_i    = params['tau_i']\n",
    "    input_e  = params['input_e']\n",
    "    input_i  = params['input_i']\n",
    "    j_ee     = params['j_ee']\n",
    "    j_ie     = params['j_ie']\n",
    "    j_ei     = params['j_ei']\n",
    "    j_ii     = params['j_ii']\n",
    "\n",
    "    J = np.zeros((2,2))\n",
    "    J[0,0] = j_ee-1\n",
    "    J[0,1] = j_ei\n",
    "    J[1,0] = j_ie\n",
    "    J[1,1] = -1-j_ii\n",
    "\n",
    "    return J\n",
    "\n",
    "print(compute_jacobian(params))"
   ]
  },
  {
   "cell_type": "markdown",
   "metadata": {
    "id": "GMjDKGySMYQn"
   },
   "source": [
    "<font color=violet>2b. Based on these values, what type of fixed point does this system have? Stable vs unstable, and spiral vs source/sink?</font>"
   ]
  },
  {
   "cell_type": "markdown",
   "metadata": {
    "id": "Ewqpo4G1MYQn"
   },
   "source": [
    "<font color=violet>2c. Complete the plotting code below to check your work- does the system behave as predicted?</font>"
   ]
  },
  {
   "cell_type": "code",
   "execution_count": null,
   "metadata": {
    "id": "Tj6j2nOMMYQn"
   },
   "outputs": [],
   "source": [
    "def simulate_network(params, e0=0, i0=0, produce_plot=True):\n",
    "    tau_e    = params['tau_e']\n",
    "    tau_i    = params['tau_i']\n",
    "    input_e  = params['input_e']\n",
    "    input_i  = params['input_i']\n",
    "    j_ee     = params['j_ee']\n",
    "    j_ie     = params['j_ie']\n",
    "    j_ei     = params['j_ei']\n",
    "    j_ii     = params['j_ii']\n",
    "\n",
    "    dedt = lambda E,I: ...\n",
    "    didt = lambda E,I: ...\n",
    "\n",
    "    T = 1000 # simulation timesteps\n",
    "    e_vals = np.zeros(T)\n",
    "    i_vals = np.zeros(T)\n",
    "    e_vals[0] = e0  # set initial conditions of the system\n",
    "    i_vals[0] = i0\n",
    "    for t in range(1,T):\n",
    "        e_vals[t] = ...\n",
    "        i_vals[t] = ...\n",
    "\n",
    "    if produce_plot:\n",
    "        plt.plot(e_vals, label='E')\n",
    "        plt.plot(i_vals, label='I')\n",
    "        plt.legend();\n",
    "\n",
    "    return e_vals, i_vals\n",
    "\n",
    "simulate_network(params);"
   ]
  },
  {
   "cell_type": "markdown",
   "metadata": {
    "id": "6Nupv-KqMYQo"
   },
   "source": [
    "<font color=violet>2d. Modify your earlier `plot_nullclines` function so that it also calls `simulate_network` and plots the trajectory of your system in the phase plane.</font>"
   ]
  },
  {
   "cell_type": "code",
   "execution_count": null,
   "metadata": {
    "id": "CBINknUKMYQo"
   },
   "outputs": [],
   "source": [
    "def plot_nullclines_and_trajectory(params, i_min=0, i_max=1):\n",
    "    ...\n",
    "\n",
    "\n",
    "\n",
    "plot_nullclines_and_trajectory(params)"
   ]
  },
  {
   "cell_type": "markdown",
   "metadata": {
    "id": "UEn25tr9MYQo"
   },
   "source": [
    "### Problem 3: dynamic regimes of the model."
   ]
  },
  {
   "cell_type": "markdown",
   "metadata": {
    "id": "05b5YvtsMYQo"
   },
   "source": [
    "<font color=violet>3a. If a network is in the ISN regime, then it will be unstable in the absence of inhibitory feedback. Test whether this model is in the ISN regime by creating a modified version of your `simulate_network` code that simulates the effect of removing/silencing inhibitory feedback in the model. Is this model an ISN?</font>"
   ]
  },
  {
   "cell_type": "code",
   "execution_count": null,
   "metadata": {
    "id": "i3DR7SixMYQo"
   },
   "outputs": [],
   "source": [
    "## modify this code where appropriate to test if the system is an ISN.\n",
    "\n",
    "def simulate_network_with_silencing(params, e0=0, i0=0, produce_plot=True):\n",
    "    tau_e    = params['tau_e']\n",
    "    tau_i    = params['tau_i']\n",
    "    input_e  = params['input_e']\n",
    "    input_i  = params['input_i']\n",
    "    j_ee     = params['j_ee']\n",
    "    j_ie     = params['j_ie']\n",
    "    j_ei     = params['j_ei']\n",
    "    j_ii     = params['j_ii']\n",
    "\n",
    "    dedt = lambda E,I: ...\n",
    "    didt = lambda E,I: ...\n",
    "\n",
    "    T = 1000\n",
    "    e_vals = np.zeros(T)\n",
    "    i_vals = np.zeros(T)\n",
    "    e_vals[0] = e0\n",
    "    i_vals[0] = i0\n",
    "    for t in range(1,T):\n",
    "        e_vals[t] = ...\n",
    "        i_vals[t] = ...\n",
    "\n",
    "    if produce_plot:\n",
    "        plt.plot(e_vals, label='E')\n",
    "        plt.plot(i_vals, label='I')\n",
    "        plt.legend();\n",
    "\n",
    "    return e_vals,i_vals\n",
    "\n",
    "simulate_network_with_silencing(params);"
   ]
  },
  {
   "cell_type": "markdown",
   "metadata": {
    "id": "FQjpIJ1WMYQo"
   },
   "source": [
    "<font color=violet>3b. For each of the following regimes, state whether it can be produced by this network model, and if so provide a set of model parameters that generate it.</font>"
   ]
  },
  {
   "cell_type": "markdown",
   "metadata": {
    "id": "zQzqjXdTMYQp"
   },
   "source": [
    "<font color=violet>i. A stable system that is not in the ISN regime.</font>"
   ]
  },
  {
   "cell_type": "markdown",
   "metadata": {
    "id": "_-cYRE6GMYQp"
   },
   "source": [
    "<font color=violet>ii. A stable system that produces transient oscillations.</font>"
   ]
  },
  {
   "cell_type": "markdown",
   "metadata": {
    "id": "WlU6YtcYMYQp"
   },
   "source": [
    "<font color=violet>iii. A limit cycle.</font>"
   ]
  },
  {
   "cell_type": "markdown",
   "metadata": {
    "id": "fVkyTBOMMYQp"
   },
   "source": [
    "### Bonus: modeling the surround suppression experiment in Ozeki et al.\n",
    "As you may have learned in Great Experiments, Ozeki et al used a modified surround suppression experiment to demonstrate that the visual cortex is operating in an inhibition-stabilized regime. <a href=https://ctn.zuckermaninstitute.columbia.edu/sites/default/files/content/Publications/2009/Ozeki%20(Schaffer),%20Inhibitory%20Stabilization%20of%20the%20Cortical%20Network%20Underlies%20Visual%20Surround%20Suppression.pdf>You can read the paper here</a>.\n",
    "\n",
    "<font color=violet>Create a modified version of the `simulate_network` code to model an input to the excitatory population turning on at T=0 and an input to the inhibitory population turning on at T=500. Plot the activity of the simulated populations to show the paradoxical drop in inhibitory activity.</font>"
   ]
  }
 ],
 "metadata": {
  "colab": {
   "include_colab_link": true,
   "provenance": []
  },
  "kernelspec": {
   "display_name": "Python 3 (ipykernel)",
   "language": "python",
   "name": "python3"
  },
  "language_info": {
   "codemirror_mode": {
    "name": "ipython",
    "version": 3
   },
   "file_extension": ".py",
   "mimetype": "text/x-python",
   "name": "python",
   "nbconvert_exporter": "python",
   "pygments_lexer": "ipython3",
   "version": "3.8.16"
  }
 },
 "nbformat": 4,
 "nbformat_minor": 4
}
